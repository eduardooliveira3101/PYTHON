{
 "cells": [
  {
   "cell_type": "markdown",
   "id": "8b2faee3",
   "metadata": {},
   "source": [
    "## Criando Dicionário e acessando propriedade"
   ]
  },
  {
   "cell_type": "code",
   "execution_count": 8,
   "id": "062d6546",
   "metadata": {},
   "outputs": [
    {
     "name": "stdout",
     "output_type": "stream",
     "text": [
      "Eduardo\n"
     ]
    }
   ],
   "source": [
    "testing = {\n",
    "  'name': 'Eduardo',\n",
    "  'age': 25\n",
    "}\n",
    "\n",
    "print(testing['name'])"
   ]
  },
  {
   "cell_type": "markdown",
   "id": "dd5dd88b",
   "metadata": {},
   "source": [
    "## Criando dicionário atravez da função DICT"
   ]
  },
  {
   "cell_type": "code",
   "execution_count": null,
   "id": "ab3a81d3",
   "metadata": {},
   "outputs": [
    {
     "name": "stdout",
     "output_type": "stream",
     "text": [
      "{'name': 'Eduardo', 'age': 25, 'city': 'Fortaleza-CE'}\n"
     ]
    }
   ],
   "source": [
    "me = dict(\n",
    "  name= 'Eduardo',\n",
    "  age= 25,\n",
    "  city = 'Fortaleza-CE'\n",
    ") \n",
    "\n",
    "print(me)"
   ]
  },
  {
   "cell_type": "markdown",
   "id": "15d72310",
   "metadata": {},
   "source": [
    "## Trabalhando com tupla, listas e dicionários combinados"
   ]
  },
  {
   "cell_type": "code",
   "execution_count": null,
   "id": "4e01deb0",
   "metadata": {},
   "outputs": [
    {
     "name": "stdout",
     "output_type": "stream",
     "text": [
      "Bermuda\n"
     ]
    }
   ],
   "source": [
    "teams_vs_teams = [\n",
    "  ('rj', 'Flamengo'),\n",
    "  ('sp', 'Santos'),\n",
    "  ('ce', 'Ceará'),\n",
    "  ('rs', 'Internacional')           \n",
    "]\n",
    "\n",
    "campeonato = dict(teams_vs_teams)\n",
    "\n",
    "buy__onAmazon = {\n",
    "  'name': 'Eduardo',\n",
    "  'car': [\n",
    "    'Camisa',\n",
    "    'Bermuda',\n",
    "    'Meia'\n",
    "  ]\n",
    "}\n",
    "\n",
    "print(buy__onAmazon['car'])"
   ]
  },
  {
   "cell_type": "markdown",
   "id": "b26d6781",
   "metadata": {},
   "source": [
    "## Trabalhando com FLOAT"
   ]
  },
  {
   "cell_type": "code",
   "execution_count": 16,
   "id": "4a2d3928",
   "metadata": {},
   "outputs": [
    {
     "name": "stdout",
     "output_type": "stream",
     "text": [
      "['A bermuda custa: R$26', 'A camisa custa: R$55', 'A calça custa: R$55', 'A meia custa: R$667']\n"
     ]
    }
   ],
   "source": [
    "estoque = {\n",
    "  'bermuda': 25.9478593,\n",
    "  'camisa': 54.78278498,\n",
    "  'calca': 54.78589290,\n",
    "  'meia': 667.34856723784\n",
    "}\n",
    "\n",
    "estoque_update_bermuda = f'A bermuda custa: R${estoque[\"bermuda\"]:.0f}'\n",
    "estoque_update_camisa = f'A camisa custa: R${estoque[\"camisa\"]:.0f}'\n",
    "estoque_update_calca = f'A calça custa: R${estoque[\"calca\"]:.0f}'\n",
    "estoque_update_meia = f'A meia custa: R${estoque[\"meia\"]:.0f}'\n",
    "\n",
    "estoque_update = [\n",
    "  (estoque_update_bermuda),\n",
    "  (estoque_update_camisa),\n",
    "  (estoque_update_calca),\n",
    "  (estoque_update_meia)\n",
    "]\n",
    "\n",
    "print(estoque_update)"
   ]
  },
  {
   "cell_type": "markdown",
   "id": "8f754504",
   "metadata": {},
   "source": [
    "## Praticando com dicionários"
   ]
  },
  {
   "cell_type": "code",
   "execution_count": 20,
   "id": "77c66b8d",
   "metadata": {},
   "outputs": [
    {
     "name": "stdout",
     "output_type": "stream",
     "text": [
      "Abastecendo 10L de etanol, você vai pagar R$42.90\n"
     ]
    }
   ],
   "source": [
    "#Exercicio 01\n",
    "\n",
    "combustivel = {\n",
    "  'gasolina': 5.87,\n",
    "  'Etanol': 4.29,\n",
    "}\n",
    "\n",
    "abastecimento_etanol = 10\n",
    "\n",
    "resultado_do_abastecimento = combustivel['Etanol'] * abastecimento_etanol\n",
    "\n",
    "print(f'Abastecendo {abastecimento_etanol}L de etanol, você vai pagar R${resultado_do_abastecimento:.2f}')"
   ]
  },
  {
   "cell_type": "code",
   "execution_count": 37,
   "id": "12ac6270",
   "metadata": {},
   "outputs": [
    {
     "name": "stdout",
     "output_type": "stream",
     "text": [
      "A calça com 25% de desconto: R$67.43\n",
      "O Casaco com 10% de desconto: R$135.00\n"
     ]
    }
   ],
   "source": [
    "#Exercicio 02\n",
    "\n",
    "loja = {\n",
    "  'camiseta': 35.00,\n",
    "  'calca': 89.90,\n",
    "  'casaco': 150.00\n",
    "}\n",
    "\n",
    "\n",
    "desconto_calca = (25/100) * loja['calca']\n",
    "calca_com_desconto = loja['calca'] - desconto_calca\n",
    "\n",
    "desconto = (10/100) * loja['casaco']\n",
    "casaco_com_desconto = loja['casaco'] - desconto\n",
    "\n",
    "print(f'A calça com 25% de desconto: R${calca_com_desconto:.2f}')\n",
    "print(f'O Casaco com 10% de desconto: R${casaco_com_desconto:.2f}')\n",
    "\n",
    "\n"
   ]
  },
  {
   "cell_type": "code",
   "execution_count": 51,
   "id": "4a55fdb1",
   "metadata": {},
   "outputs": [
    {
     "name": "stdout",
     "output_type": "stream",
     "text": [
      "📃Carrinho de compras\n",
      "✏️ Arroz ➡️ R$4.99\n",
      "✏️ Feijão ➡️ R$6.50\n",
      "✏️ Leite ➡️ R$3.89\n",
      "✏️ Pão ➡️ R$0.99\n",
      "✏️ Manteiga ➡️ R$7.25\n",
      "💵 Você comprou 3x feijão por R$6.50\n",
      "💵 O valor total de compra do feijão foi R$19.50\n"
     ]
    }
   ],
   "source": [
    "#Exercicio  03\n",
    "\n",
    "carrinho_compras = {\n",
    "  'Arroz': 4.99,\n",
    "  'Feijão': 6.50,\n",
    "  'Leite': 3.89,\n",
    "  'Pão': 0.99,\n",
    "  'Manteiga': 7.25\n",
    "}\n",
    "\n",
    "calculo_feijão = carrinho_compras['Feijão'] * 3\n",
    "\n",
    "print(f'📃Carrinho de compras')\n",
    "print(f'✏️ Arroz ➡️ R${carrinho_compras[\"Arroz\"]:.2f}')\n",
    "print(f'✏️ Feijão ➡️ R${carrinho_compras[\"Feijão\"]:.2f}')\n",
    "print(f'✏️ Leite ➡️ R${carrinho_compras[\"Leite\"]:.2f}')\n",
    "print(f'✏️ Pão ➡️ R${carrinho_compras[\"Pão\"]:.2f}')\n",
    "print(f'✏️ Manteiga ➡️ R${carrinho_compras[\"Manteiga\"]:.2f}')\n",
    "\n",
    "print(f'💵 Você comprou 3x feijão por R${carrinho_compras[\"Feijão\"]:.2f}')\n",
    "print(f'💵 O valor total de compra do feijão foi R${calculo_feijão:.2f}')"
   ]
  },
  {
   "cell_type": "markdown",
   "id": "20229ebb",
   "metadata": {},
   "source": [
    "## Trabalhando com Pandas e Numpy"
   ]
  },
  {
   "cell_type": "code",
   "execution_count": 17,
   "id": "c469b3d3",
   "metadata": {},
   "outputs": [
    {
     "data": {
      "text/html": [
       "<div>\n",
       "<style scoped>\n",
       "    .dataframe tbody tr th:only-of-type {\n",
       "        vertical-align: middle;\n",
       "    }\n",
       "\n",
       "    .dataframe tbody tr th {\n",
       "        vertical-align: top;\n",
       "    }\n",
       "\n",
       "    .dataframe thead th {\n",
       "        text-align: right;\n",
       "    }\n",
       "</style>\n",
       "<table border=\"1\" class=\"dataframe\">\n",
       "  <thead>\n",
       "    <tr style=\"text-align: right;\">\n",
       "      <th></th>\n",
       "      <th>Destinos</th>\n",
       "      <th>Valores</th>\n",
       "      <th>Disponibilidade</th>\n",
       "      <th>Desconto(%)</th>\n",
       "    </tr>\n",
       "  </thead>\n",
       "  <tbody>\n",
       "    <tr>\n",
       "      <th>0</th>\n",
       "      <td>Fortaleza</td>\n",
       "      <td>300.0</td>\n",
       "      <td>Disponivel</td>\n",
       "      <td>5</td>\n",
       "    </tr>\n",
       "    <tr>\n",
       "      <th>1</th>\n",
       "      <td>Salvador</td>\n",
       "      <td>450.0</td>\n",
       "      <td>Indisponivel</td>\n",
       "      <td>5</td>\n",
       "    </tr>\n",
       "    <tr>\n",
       "      <th>2</th>\n",
       "      <td>Campinas</td>\n",
       "      <td>756.0</td>\n",
       "      <td>Disponivel</td>\n",
       "      <td>15</td>\n",
       "    </tr>\n",
       "    <tr>\n",
       "      <th>3</th>\n",
       "      <td>Holambra</td>\n",
       "      <td>546.0</td>\n",
       "      <td>Indisponivel</td>\n",
       "      <td>15</td>\n",
       "    </tr>\n",
       "    <tr>\n",
       "      <th>4</th>\n",
       "      <td>Maceió</td>\n",
       "      <td>670.0</td>\n",
       "      <td>Disponivel</td>\n",
       "      <td>15</td>\n",
       "    </tr>\n",
       "  </tbody>\n",
       "</table>\n",
       "</div>"
      ],
      "text/plain": [
       "    Destinos  Valores Disponibilidade  Desconto(%)\n",
       "0  Fortaleza    300.0      Disponivel            5\n",
       "1   Salvador    450.0    Indisponivel            5\n",
       "2   Campinas    756.0      Disponivel           15\n",
       "3   Holambra    546.0    Indisponivel           15\n",
       "4     Maceió    670.0      Disponivel           15"
      ]
     },
     "execution_count": 17,
     "metadata": {},
     "output_type": "execute_result"
    }
   ],
   "source": [
    "import pandas as pd\n",
    "import numpy as np\n",
    "\n",
    "#Lista os dados\n",
    "destinos = ['Fortaleza', 'Salvador', 'Campinas', 'Holambra', 'Maceió']\n",
    "preços = [300.0, 450.0, 756.0, 546.0, 670.0]\n",
    "disponibilidade = ['Disponivel', 'Indisponivel', 'Disponivel', 'Indisponivel', 'Disponivel' ]\n",
    "\n",
    "#Criando o dataframe\n",
    "#Construir a tabela através dos dicionários, a estrutura é baseada em dicionário/objeto\n",
    "df_viagens = pd.DataFrame({\n",
    "  'Destinos' : destinos,\n",
    "  'Valores' : preços,\n",
    "  'Disponibilidade' : disponibilidade\n",
    "})\n",
    "\n",
    "#Criando a coluna desconto com condições utilizando a biblioteca numpy\n",
    "df_viagens['Desconto(%)'] = np.where(df_viagens['Valores'] > 500, 15, 5)\n",
    "\n",
    "#Mostrando a tabela\n",
    "df_viagens.head()\n"
   ]
  },
  {
   "cell_type": "markdown",
   "id": "cc53206d",
   "metadata": {},
   "source": [
    "## Exercicio Locadora de veículos"
   ]
  },
  {
   "cell_type": "code",
   "execution_count": 20,
   "id": "fda8e85a",
   "metadata": {},
   "outputs": [
    {
     "data": {
      "text/html": [
       "<div>\n",
       "<style scoped>\n",
       "    .dataframe tbody tr th:only-of-type {\n",
       "        vertical-align: middle;\n",
       "    }\n",
       "\n",
       "    .dataframe tbody tr th {\n",
       "        vertical-align: top;\n",
       "    }\n",
       "\n",
       "    .dataframe thead th {\n",
       "        text-align: right;\n",
       "    }\n",
       "</style>\n",
       "<table border=\"1\" class=\"dataframe\">\n",
       "  <thead>\n",
       "    <tr style=\"text-align: right;\">\n",
       "      <th></th>\n",
       "      <th>Modelo</th>\n",
       "      <th>Placa</th>\n",
       "      <th>Preço</th>\n",
       "      <th>Disponibilidade</th>\n",
       "      <th>Desconto</th>\n",
       "    </tr>\n",
       "  </thead>\n",
       "  <tbody>\n",
       "    <tr>\n",
       "      <th>0</th>\n",
       "      <td>Fiat Mobi</td>\n",
       "      <td>ABC1A23</td>\n",
       "      <td>180.0</td>\n",
       "      <td>Disponível</td>\n",
       "      <td>15</td>\n",
       "    </tr>\n",
       "    <tr>\n",
       "      <th>1</th>\n",
       "      <td>Chevrolet Onix</td>\n",
       "      <td>DEF2834</td>\n",
       "      <td>220.0</td>\n",
       "      <td>Indisponível</td>\n",
       "      <td>4</td>\n",
       "    </tr>\n",
       "    <tr>\n",
       "      <th>2</th>\n",
       "      <td>Toyta Corolla</td>\n",
       "      <td>GHI3C45</td>\n",
       "      <td>300.0</td>\n",
       "      <td>Disponível</td>\n",
       "      <td>4</td>\n",
       "    </tr>\n",
       "    <tr>\n",
       "      <th>3</th>\n",
       "      <td>Renault Kwid</td>\n",
       "      <td>JKL4D56</td>\n",
       "      <td>160.0</td>\n",
       "      <td>Disponível</td>\n",
       "      <td>15</td>\n",
       "    </tr>\n",
       "    <tr>\n",
       "      <th>4</th>\n",
       "      <td>Hyundai HB20</td>\n",
       "      <td>MNO5E67</td>\n",
       "      <td>190.0</td>\n",
       "      <td>Indisponível</td>\n",
       "      <td>15</td>\n",
       "    </tr>\n",
       "  </tbody>\n",
       "</table>\n",
       "</div>"
      ],
      "text/plain": [
       "           Modelo    Placa  Preço Disponibilidade  Desconto\n",
       "0       Fiat Mobi  ABC1A23  180.0      Disponível        15\n",
       "1  Chevrolet Onix  DEF2834  220.0    Indisponível         4\n",
       "2   Toyta Corolla  GHI3C45  300.0      Disponível         4\n",
       "3    Renault Kwid  JKL4D56  160.0      Disponível        15\n",
       "4    Hyundai HB20  MNO5E67  190.0    Indisponível        15"
      ]
     },
     "execution_count": 20,
     "metadata": {},
     "output_type": "execute_result"
    }
   ],
   "source": [
    "import pandas as pd\n",
    "import numpy as np\n",
    "\n",
    "modelo = ['Fiat Mobi', 'Chevrolet Onix', 'Toyta Corolla', 'Renault Kwid', 'Hyundai HB20']\n",
    "placa = ['ABC1A23', 'DEF2834', 'GHI3C45', 'JKL4D56', 'MNO5E67']\n",
    "preco_diario = [180.0, 220.0, 300.0, 160.0, 190.0]\n",
    "disponibilidade = ['Disponível', 'Indisponível','Disponível', 'Disponível', 'Indisponível'] \n",
    "\n",
    "df_veiculos = pd.DataFrame({\n",
    "  'Modelo': modelo,\n",
    "  'Placa' : placa,\n",
    "  'Preço' : preco_diario,\n",
    "  'Disponibilidade' : disponibilidade\n",
    "})\n",
    "\n",
    "df_veiculos['Desconto'] = np.where(df_veiculos['Preço'] < 200, 15, 4)\n",
    "\n",
    "df_veiculos.head()"
   ]
  }
 ],
 "metadata": {
  "kernelspec": {
   "display_name": ".venv",
   "language": "python",
   "name": "python3"
  },
  "language_info": {
   "codemirror_mode": {
    "name": "ipython",
    "version": 3
   },
   "file_extension": ".py",
   "mimetype": "text/x-python",
   "name": "python",
   "nbconvert_exporter": "python",
   "pygments_lexer": "ipython3",
   "version": "3.13.5"
  }
 },
 "nbformat": 4,
 "nbformat_minor": 5
}
