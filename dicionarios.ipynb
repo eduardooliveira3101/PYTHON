{
 "cells": [
  {
   "cell_type": "markdown",
   "id": "8b2faee3",
   "metadata": {},
   "source": [
    "## Criando Dicionário e acessando propriedade"
   ]
  },
  {
   "cell_type": "code",
   "execution_count": 8,
   "id": "062d6546",
   "metadata": {},
   "outputs": [
    {
     "name": "stdout",
     "output_type": "stream",
     "text": [
      "Eduardo\n"
     ]
    }
   ],
   "source": [
    "testing = {\n",
    "  'name': 'Eduardo',\n",
    "  'age': 25\n",
    "}\n",
    "\n",
    "print(testing['name'])"
   ]
  },
  {
   "cell_type": "markdown",
   "id": "dd5dd88b",
   "metadata": {},
   "source": [
    "## Criando dicionário atravez da função DICT"
   ]
  },
  {
   "cell_type": "code",
   "execution_count": null,
   "id": "ab3a81d3",
   "metadata": {},
   "outputs": [
    {
     "name": "stdout",
     "output_type": "stream",
     "text": [
      "{'name': 'Eduardo', 'age': 25, 'city': 'Fortaleza-CE'}\n"
     ]
    }
   ],
   "source": [
    "me = dict(\n",
    "  name= 'Eduardo',\n",
    "  age= 25,\n",
    "  city = 'Fortaleza-CE'\n",
    ") \n",
    "\n",
    "print(me)"
   ]
  },
  {
   "cell_type": "markdown",
   "id": "15d72310",
   "metadata": {},
   "source": [
    "## Trabalhando com tupla, listas e dicionários combinados"
   ]
  },
  {
   "cell_type": "code",
   "execution_count": null,
   "id": "4e01deb0",
   "metadata": {},
   "outputs": [
    {
     "name": "stdout",
     "output_type": "stream",
     "text": [
      "Bermuda\n"
     ]
    }
   ],
   "source": [
    "teams_vs_teams = [\n",
    "  ('rj', 'Flamengo'),\n",
    "  ('sp', 'Santos'),\n",
    "  ('ce', 'Ceará'),\n",
    "  ('rs', 'Internacional')           \n",
    "]\n",
    "\n",
    "campeonato = dict(teams_vs_teams)\n",
    "\n",
    "buy__onAmazon = {\n",
    "  'name': 'Eduardo',\n",
    "  'car': [\n",
    "    'Camisa',\n",
    "    'Bermuda',\n",
    "    'Meia'\n",
    "  ]\n",
    "}\n",
    "\n",
    "print(buy__onAmazon['car'])"
   ]
  },
  {
   "cell_type": "markdown",
   "id": "b26d6781",
   "metadata": {},
   "source": [
    "## Trabalhando com FLOAT"
   ]
  },
  {
   "cell_type": "code",
   "execution_count": 16,
   "id": "4a2d3928",
   "metadata": {},
   "outputs": [
    {
     "name": "stdout",
     "output_type": "stream",
     "text": [
      "['A bermuda custa: R$26', 'A camisa custa: R$55', 'A calça custa: R$55', 'A meia custa: R$667']\n"
     ]
    }
   ],
   "source": [
    "estoque = {\n",
    "  'bermuda': 25.9478593,\n",
    "  'camisa': 54.78278498,\n",
    "  'calca': 54.78589290,\n",
    "  'meia': 667.34856723784\n",
    "}\n",
    "\n",
    "estoque_update_bermuda = f'A bermuda custa: R${estoque[\"bermuda\"]:.0f}'\n",
    "estoque_update_camisa = f'A camisa custa: R${estoque[\"camisa\"]:.0f}'\n",
    "estoque_update_calca = f'A calça custa: R${estoque[\"calca\"]:.0f}'\n",
    "estoque_update_meia = f'A meia custa: R${estoque[\"meia\"]:.0f}'\n",
    "\n",
    "estoque_update = [\n",
    "  (estoque_update_bermuda),\n",
    "  (estoque_update_camisa),\n",
    "  (estoque_update_calca),\n",
    "  (estoque_update_meia)\n",
    "]\n",
    "\n",
    "print(estoque_update)"
   ]
  }
 ],
 "metadata": {
  "kernelspec": {
   "display_name": ".venv",
   "language": "python",
   "name": "python3"
  },
  "language_info": {
   "codemirror_mode": {
    "name": "ipython",
    "version": 3
   },
   "file_extension": ".py",
   "mimetype": "text/x-python",
   "name": "python",
   "nbconvert_exporter": "python",
   "pygments_lexer": "ipython3",
   "version": "3.13.5"
  }
 },
 "nbformat": 4,
 "nbformat_minor": 5
}
