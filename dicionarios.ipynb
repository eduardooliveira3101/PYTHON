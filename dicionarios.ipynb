{
 "cells": [
  {
   "cell_type": "markdown",
   "id": "8b2faee3",
   "metadata": {},
   "source": [
    "## Criando Dicionário e acessando propriedade"
   ]
  },
  {
   "cell_type": "code",
   "execution_count": 8,
   "id": "062d6546",
   "metadata": {},
   "outputs": [
    {
     "name": "stdout",
     "output_type": "stream",
     "text": [
      "Eduardo\n"
     ]
    }
   ],
   "source": [
    "testing = {\n",
    "  'name': 'Eduardo',\n",
    "  'age': 25\n",
    "}\n",
    "\n",
    "print(testing['name'])"
   ]
  },
  {
   "cell_type": "markdown",
   "id": "dd5dd88b",
   "metadata": {},
   "source": [
    "## Criando dicionário atravez da função DICT"
   ]
  },
  {
   "cell_type": "code",
   "execution_count": null,
   "id": "ab3a81d3",
   "metadata": {},
   "outputs": [
    {
     "name": "stdout",
     "output_type": "stream",
     "text": [
      "{'name': 'Eduardo', 'age': 25, 'city': 'Fortaleza-CE'}\n"
     ]
    }
   ],
   "source": [
    "me = dict(\n",
    "  name= 'Eduardo',\n",
    "  age= 25,\n",
    "  city = 'Fortaleza-CE'\n",
    ") \n",
    "\n",
    "print(me)"
   ]
  },
  {
   "cell_type": "markdown",
   "id": "15d72310",
   "metadata": {},
   "source": [
    "## Trabalhando com tupla, listas e dicionários combinados"
   ]
  },
  {
   "cell_type": "code",
   "execution_count": null,
   "id": "4e01deb0",
   "metadata": {},
   "outputs": [
    {
     "name": "stdout",
     "output_type": "stream",
     "text": [
      "Bermuda\n"
     ]
    }
   ],
   "source": [
    "teams_vs_teams = [\n",
    "  ('rj', 'Flamengo'),\n",
    "  ('sp', 'Santos'),\n",
    "  ('ce', 'Ceará'),\n",
    "  ('rs', 'Internacional')           \n",
    "]\n",
    "\n",
    "campeonato = dict(teams_vs_teams)\n",
    "\n",
    "buy__onAmazon = {\n",
    "  'name': 'Eduardo',\n",
    "  'car': [\n",
    "    'Camisa',\n",
    "    'Bermuda',\n",
    "    'Meia'\n",
    "  ]\n",
    "}\n",
    "\n",
    "print(buy__onAmazon['car'])"
   ]
  },
  {
   "cell_type": "markdown",
   "id": "b26d6781",
   "metadata": {},
   "source": [
    "## Trabalhando com FLOAT"
   ]
  },
  {
   "cell_type": "code",
   "execution_count": 16,
   "id": "4a2d3928",
   "metadata": {},
   "outputs": [
    {
     "name": "stdout",
     "output_type": "stream",
     "text": [
      "['A bermuda custa: R$26', 'A camisa custa: R$55', 'A calça custa: R$55', 'A meia custa: R$667']\n"
     ]
    }
   ],
   "source": [
    "estoque = {\n",
    "  'bermuda': 25.9478593,\n",
    "  'camisa': 54.78278498,\n",
    "  'calca': 54.78589290,\n",
    "  'meia': 667.34856723784\n",
    "}\n",
    "\n",
    "estoque_update_bermuda = f'A bermuda custa: R${estoque[\"bermuda\"]:.0f}'\n",
    "estoque_update_camisa = f'A camisa custa: R${estoque[\"camisa\"]:.0f}'\n",
    "estoque_update_calca = f'A calça custa: R${estoque[\"calca\"]:.0f}'\n",
    "estoque_update_meia = f'A meia custa: R${estoque[\"meia\"]:.0f}'\n",
    "\n",
    "estoque_update = [\n",
    "  (estoque_update_bermuda),\n",
    "  (estoque_update_camisa),\n",
    "  (estoque_update_calca),\n",
    "  (estoque_update_meia)\n",
    "]\n",
    "\n",
    "print(estoque_update)"
   ]
  },
  {
   "cell_type": "markdown",
   "id": "8f754504",
   "metadata": {},
   "source": [
    "## Praticando com dicionários"
   ]
  },
  {
   "cell_type": "code",
   "execution_count": 20,
   "id": "77c66b8d",
   "metadata": {},
   "outputs": [
    {
     "name": "stdout",
     "output_type": "stream",
     "text": [
      "Abastecendo 10L de etanol, você vai pagar R$42.90\n"
     ]
    }
   ],
   "source": [
    "#Exercicio 01\n",
    "\n",
    "combustivel = {\n",
    "  'gasolina': 5.87,\n",
    "  'Etanol': 4.29,\n",
    "}\n",
    "\n",
    "abastecimento_etanol = 10\n",
    "\n",
    "resultado_do_abastecimento = combustivel['Etanol'] * abastecimento_etanol\n",
    "\n",
    "print(f'Abastecendo {abastecimento_etanol}L de etanol, você vai pagar R${resultado_do_abastecimento:.2f}')"
   ]
  },
  {
   "cell_type": "code",
   "execution_count": 37,
   "id": "12ac6270",
   "metadata": {},
   "outputs": [
    {
     "name": "stdout",
     "output_type": "stream",
     "text": [
      "A calça com 25% de desconto: R$67.43\n",
      "O Casaco com 10% de desconto: R$135.00\n"
     ]
    }
   ],
   "source": [
    "#Exercicio 02\n",
    "\n",
    "loja = {\n",
    "  'camiseta': 35.00,\n",
    "  'calca': 89.90,\n",
    "  'casaco': 150.00\n",
    "}\n",
    "\n",
    "\n",
    "desconto_calca = (25/100) * loja['calca']\n",
    "calca_com_desconto = loja['calca'] - desconto_calca\n",
    "\n",
    "desconto = (10/100) * loja['casaco']\n",
    "casaco_com_desconto = loja['casaco'] - desconto\n",
    "\n",
    "print(f'A calça com 25% de desconto: R${calca_com_desconto:.2f}')\n",
    "print(f'O Casaco com 10% de desconto: R${casaco_com_desconto:.2f}')\n",
    "\n",
    "\n"
   ]
  },
  {
   "cell_type": "code",
   "execution_count": 51,
   "id": "4a55fdb1",
   "metadata": {},
   "outputs": [
    {
     "name": "stdout",
     "output_type": "stream",
     "text": [
      "📃Carrinho de compras\n",
      "✏️ Arroz ➡️ R$4.99\n",
      "✏️ Feijão ➡️ R$6.50\n",
      "✏️ Leite ➡️ R$3.89\n",
      "✏️ Pão ➡️ R$0.99\n",
      "✏️ Manteiga ➡️ R$7.25\n",
      "💵 Você comprou 3x feijão por R$6.50\n",
      "💵 O valor total de compra do feijão foi R$19.50\n"
     ]
    }
   ],
   "source": [
    "#Exercicio  03\n",
    "\n",
    "carrinho_compras = {\n",
    "  'Arroz': 4.99,\n",
    "  'Feijão': 6.50,\n",
    "  'Leite': 3.89,\n",
    "  'Pão': 0.99,\n",
    "  'Manteiga': 7.25\n",
    "}\n",
    "\n",
    "calculo_feijão = carrinho_compras['Feijão'] * 3\n",
    "\n",
    "print(f'📃Carrinho de compras')\n",
    "print(f'✏️ Arroz ➡️ R${carrinho_compras[\"Arroz\"]:.2f}')\n",
    "print(f'✏️ Feijão ➡️ R${carrinho_compras[\"Feijão\"]:.2f}')\n",
    "print(f'✏️ Leite ➡️ R${carrinho_compras[\"Leite\"]:.2f}')\n",
    "print(f'✏️ Pão ➡️ R${carrinho_compras[\"Pão\"]:.2f}')\n",
    "print(f'✏️ Manteiga ➡️ R${carrinho_compras[\"Manteiga\"]:.2f}')\n",
    "\n",
    "print(f'💵 Você comprou 3x feijão por R${carrinho_compras[\"Feijão\"]:.2f}')\n",
    "print(f'💵 O valor total de compra do feijão foi R${calculo_feijão:.2f}')"
   ]
  }
 ],
 "metadata": {
  "kernelspec": {
   "display_name": ".venv",
   "language": "python",
   "name": "python3"
  },
  "language_info": {
   "codemirror_mode": {
    "name": "ipython",
    "version": 3
   },
   "file_extension": ".py",
   "mimetype": "text/x-python",
   "name": "python",
   "nbconvert_exporter": "python",
   "pygments_lexer": "ipython3",
   "version": "3.13.5"
  }
 },
 "nbformat": 4,
 "nbformat_minor": 5
}
