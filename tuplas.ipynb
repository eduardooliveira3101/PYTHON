{
 "cells": [
  {
   "cell_type": "markdown",
   "id": "24566dc8",
   "metadata": {},
   "source": [
    "## Tuplas"
   ]
  },
  {
   "cell_type": "code",
   "execution_count": null,
   "id": "0b2f9424",
   "metadata": {},
   "outputs": [
    {
     "name": "stdout",
     "output_type": "stream",
     "text": [
      "('Segunda', 'Terça', 'Quarta', 'Quinta', 'Sexta')\n",
      "True\n",
      "4\n"
     ]
    }
   ],
   "source": [
    "##Criando uma tupla\n",
    "dias_da_semana = ('Segunda', 'Terça', 'Quarta', 'Quinta', 'Sexta')\n",
    "print(dias_da_semana)\n",
    "\n",
    "##Acessando um valor dentro da tupla para ver se existe ou não com o método \"in\"\n",
    "print('Quarta' in dias_da_semana)\n",
    "\n",
    "#Acessando o índice com a função .index()\n",
    "print(dias_da_semana.index('Sexta'))"
   ]
  },
  {
   "cell_type": "code",
   "execution_count": null,
   "id": "8b50638f",
   "metadata": {},
   "outputs": [
    {
     "name": "stdout",
     "output_type": "stream",
     "text": [
      "A contagem da tupla é: 3\n"
     ]
    }
   ],
   "source": [
    "#Contando o tamanho\n",
    "cidades = ('Fortaleza', 'Campinas', 'Cubatão')\n",
    "print(f'A contagem da tupla é:', len(cidades))"
   ]
  },
  {
   "cell_type": "code",
   "execution_count": 10,
   "id": "aebca46c",
   "metadata": {},
   "outputs": [
    {
     "name": "stdout",
     "output_type": "stream",
     "text": [
      "2\n"
     ]
    }
   ],
   "source": [
    "#Contando quantas vezes o dado se repete\n",
    "cidades = ('Fortaleza', 'Campinas', 'Cubatão', 'Cubatão')\n",
    "print(cidades.count('Cubatão'))"
   ]
  },
  {
   "cell_type": "code",
   "execution_count": 16,
   "id": "cb959e20",
   "metadata": {},
   "outputs": [
    {
     "name": "stdout",
     "output_type": "stream",
     "text": [
      "Eduardo Oliveira\n"
     ]
    }
   ],
   "source": [
    "# Junção de tuplas\n",
    "nome_one = ('Carlos', 'Eduardo ')\n",
    "nome_two = ('Oliveira', 'Soares')\n",
    "\n",
    "nome_junto = nome_one + nome_two\n",
    "\n",
    "eduardo_oliveira = nome_one[1] + nome_two[0]\n",
    "\n",
    "print(eduardo_oliveira)"
   ]
  },
  {
   "cell_type": "code",
   "execution_count": null,
   "id": "6be9632c",
   "metadata": {},
   "outputs": [],
   "source": []
  }
 ],
 "metadata": {
  "kernelspec": {
   "display_name": ".venv",
   "language": "python",
   "name": "python3"
  },
  "language_info": {
   "codemirror_mode": {
    "name": "ipython",
    "version": 3
   },
   "file_extension": ".py",
   "mimetype": "text/x-python",
   "name": "python",
   "nbconvert_exporter": "python",
   "pygments_lexer": "ipython3",
   "version": "3.13.5"
  }
 },
 "nbformat": 4,
 "nbformat_minor": 5
}
